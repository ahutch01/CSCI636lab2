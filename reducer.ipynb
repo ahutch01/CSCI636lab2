{
  "nbformat": 4,
  "nbformat_minor": 0,
  "metadata": {
    "colab": {
      "provenance": []
    },
    "kernelspec": {
      "name": "python3",
      "display_name": "Python 3"
    },
    "language_info": {
      "name": "python"
    }
  },
  "cells": [
    {
      "cell_type": "code",
      "source": [
        "from nltk.probability import FreqDist\n",
        "from nltk.tokenize import word_tokenize\n",
        "import nltk\n",
        "nltk.download ('punkt')"
      ],
      "metadata": {
        "colab": {
          "base_uri": "https://localhost:8080/"
        },
        "id": "kKvVcMNOCgpQ",
        "outputId": "b46ff48b-d53d-47c6-e3a7-496e88635682"
      },
      "execution_count": 16,
      "outputs": [
        {
          "output_type": "stream",
          "name": "stderr",
          "text": [
            "[nltk_data] Downloading package punkt to /root/nltk_data...\n",
            "[nltk_data]   Unzipping tokenizers/punkt.zip.\n"
          ]
        },
        {
          "output_type": "execute_result",
          "data": {
            "text/plain": [
              "True"
            ]
          },
          "metadata": {},
          "execution_count": 16
        }
      ]
    },
    {
      "cell_type": "code",
      "source": [
        "f = open('/content/sample_data/prblm1.txt', \"r\")"
      ],
      "metadata": {
        "id": "oCYZIkYWL7Lm"
      },
      "execution_count": 23,
      "outputs": []
    },
    {
      "cell_type": "code",
      "source": [
        "current_word = None\n",
        "current_count = 0\n",
        "word = None"
      ],
      "metadata": {
        "id": "GV_3AXqGdU3a"
      },
      "execution_count": 24,
      "outputs": []
    },
    {
      "cell_type": "code",
      "source": [
        "for line in f:\n",
        "  line = f.read()\n",
        "  word, count = line.split(\" \", 1)\n",
        "\n",
        "  try:\n",
        "      count = int(count)\n",
        "  except ValueError:\n",
        "      continue\n",
        "\n",
        "  if current_word == word:\n",
        "      current_count += count\n",
        "  else:\n",
        "      if current_word:\n",
        "          print('{}\\n{}'.format(current_word, current_count))\n",
        "      current_word = word\n",
        "      current_count = count\n",
        "if current_word == word:\n",
        "  print('{}\\n{}'.format(current_word,current_count))"
      ],
      "metadata": {
        "id": "DE5wm048d05v"
      },
      "execution_count": 5,
      "outputs": []
    }
  ]
}